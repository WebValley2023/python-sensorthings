{
 "cells": [
  {
   "cell_type": "code",
   "execution_count": 1,
   "id": "6ca243df",
   "metadata": {},
   "outputs": [],
   "source": [
    "import requests\n",
    "import pandas as pd\n",
    "import json\n",
    "import geopandas as gpd\n",
    "import contextily as cx"
   ]
  },
  {
   "cell_type": "code",
   "execution_count": null,
   "id": "d090f1e7",
   "metadata": {},
   "outputs": [],
   "source": [
    "#install libraries if necessary"
   ]
  },
  {
   "cell_type": "code",
   "execution_count": 2,
   "id": "105bbbf4",
   "metadata": {},
   "outputs": [],
   "source": [
    "#INPUT PARAMETERS\n",
    "org = \"'aq_labservice'\"\n",
    "dt = \"2023-06-26T00:00:00.000Z\" #starting date"
   ]
  },
  {
   "cell_type": "markdown",
   "id": "69f5c7fb-ef8f-4120-b9a2-4a56a6cc973e",
   "metadata": {},
   "source": [
    "```python\n",
    "Locations?\n",
    "    $expand=\n",
    "        ...\n",
    "    $filter= ...\n",
    "```"
   ]
  },
  {
   "cell_type": "code",
   "execution_count": 3,
   "id": "b60f63d8",
   "metadata": {},
   "outputs": [],
   "source": [
    "#REQUESTS: Data since datetime DT for all stations and observed properties\n",
    "response = requests.get(\n",
    "    f\"https://iot.comune.fe.it/FROST-Server/v1.1/...\"\n",
    ")"
   ]
  },
  {
   "cell_type": "code",
   "execution_count": null,
   "id": "bf4e1770",
   "metadata": {},
   "outputs": [],
   "source": [
    "data_json = response.json()\n",
    "data_json"
   ]
  },
  {
   "cell_type": "code",
   "execution_count": 7,
   "id": "7340a233-c865-45bc-ad0b-343ea6a53eed",
   "metadata": {},
   "outputs": [],
   "source": [
    "list_tmp = []\n",
    "\n",
    "for location in data_json['value']:\n",
    "    for thing in ...:\n",
    "        for ... datastream in ...:\n",
    "            for ... in ...:\n",
    "\n",
    "                list_tmp.append([\n",
    "                    location['name'],\n",
    "                    ..., #coordinate x\n",
    "                    ..., #coordinate y\n",
    "                    datastream['name'],\n",
    "                    ..., #time of observation\n",
    "                    ... #result (value of observation)\n",
    "                ])"
   ]
  },
  {
   "cell_type": "code",
   "execution_count": null,
   "id": "eb7a3508",
   "metadata": {},
   "outputs": [],
   "source": [
    "df = pd.DataFrame(list_tmp, columns=['location', 'lon', 'lat','obs_prop', 'timestamp', 'result'])\n",
    "df"
   ]
  },
  {
   "cell_type": "code",
   "execution_count": null,
   "id": "3764e884",
   "metadata": {},
   "outputs": [],
   "source": [
    "#Filter rows and keep only values of obs_prop 'CO'\n",
    "df_CO = df[(...)]\n",
    "df_CO"
   ]
  },
  {
   "cell_type": "code",
   "execution_count": null,
   "id": "142951fa",
   "metadata": {},
   "outputs": [],
   "source": [
    "#Get the maximum value of CO for every location\n",
    "df_CO_max = ...\n",
    "df_CO_max = ...\n",
    "\n",
    "#Transform to GeoDataFrame\n",
    "gdf_CO_max = gpd.GeoDataFrame(\n",
    "    df_CO_max, \n",
    "    geometry=gpd.points_from_xy(...), \n",
    "    crs=\"...\"\n",
    ")\n",
    "\n",
    "gdf_CO_max"
   ]
  },
  {
   "cell_type": "code",
   "execution_count": null,
   "id": "c1480855",
   "metadata": {},
   "outputs": [],
   "source": [
    "#Plot the data\n",
    "..."
   ]
  },
  {
   "cell_type": "code",
   "execution_count": null,
   "id": "42996f37",
   "metadata": {},
   "outputs": [],
   "source": [
    "#We need to switch CRS \n",
    "gdf_CO_max = gdf_CO_max.to_crs(...)\n",
    "gdf_CO_max.crs"
   ]
  },
  {
   "cell_type": "code",
   "execution_count": null,
   "id": "9ad45782",
   "metadata": {},
   "outputs": [],
   "source": [
    "ax = gdf_CO_max.plot(...)\n",
    "cx.add_basemap(ax, zoom=13)"
   ]
  }
 ],
 "metadata": {
  "kernelspec": {
   "display_name": "Python 3 (ipykernel)",
   "language": "python",
   "name": "python3"
  },
  "language_info": {
   "codemirror_mode": {
    "name": "ipython",
    "version": 3
   },
   "file_extension": ".py",
   "mimetype": "text/x-python",
   "name": "python",
   "nbconvert_exporter": "python",
   "pygments_lexer": "ipython3",
   "version": "3.9.16"
  }
 },
 "nbformat": 4,
 "nbformat_minor": 5
}
